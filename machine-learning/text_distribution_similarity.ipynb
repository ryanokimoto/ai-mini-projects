{
  "cells": [
    {
      "cell_type": "code",
      "execution_count": null,
      "metadata": {
        "collapsed": true,
        "id": "xLLDljNCNzeI",
        "notebookgrader": {
          "id": "7d2822b4486404079960baee18703191f5a45999",
          "is_solution": false,
          "is_tests": false,
          "readonly": true
        }
      },
      "outputs": [],
      "source": [
        "import requests\n",
        "import collections\n",
        "import math\n",
        "import re"
      ]
    },
    {
      "cell_type": "markdown",
      "metadata": {
        "id": "rZ7WYUni6GZv",
        "notebookgrader": {
          "id": "1f72d9733b04ef04c4d9f1117f45ab5fae8f68c2",
          "readonly": true
        }
      },
      "source": [
        "## Part 1: Text attribution"
      ]
    },
    {
      "cell_type": "code",
      "execution_count": null,
      "metadata": {
        "id": "Pc_eaodEtshM",
        "notebookgrader": {
          "id": "8cfb801e3fb68cad23c302e019a079d151ba8b26",
          "is_solution": false,
          "is_tests": false,
          "readonly": true
        }
      },
      "outputs": [],
      "source": [
        "# Computes the global vocabulary.\n",
        "urls = [\n",
        "    \"https://storage.googleapis.com/research-share/texts/t1.txt\",\n",
        "    \"https://storage.googleapis.com/research-share/texts/t2.txt\",\n",
        "    \"https://storage.googleapis.com/research-share/texts/t3.txt\",\n",
        "    \"https://storage.googleapis.com/research-share/texts/t4.txt\",\n",
        "    \"https://storage.googleapis.com/research-share/texts/t5.txt\",\n",
        "    # \"https://storage.googleapis.com/research-share/texts/t6.txt\",\n",
        "    # \"https://storage.googleapis.com/research-share/texts/t7.txt\",\n",
        "    \"https://storage.googleapis.com/research-share/texts/t8.txt\",\n",
        "    \"https://storage.googleapis.com/research-share/texts/t9.txt\",\n",
        "    \"https://storage.googleapis.com/research-share/texts/t10.txt\",\n",
        "]\n",
        "\n",
        "# We compute the book tokens once and forall, as this is an expensive operation.\n",
        "book_tokens = []\n",
        "all_tokens = []\n",
        "for u in urls:\n",
        "    text = requests.get(u).text\n",
        "    author_tokens = re.findall(r'[a-zA-Z]+', text)\n",
        "    book_tokens.append(author_tokens)\n",
        "    all_tokens.extend(author_tokens)"
      ]
    },
    {
      "cell_type": "markdown",
      "metadata": {
        "id": "dI0RxZgPUufn",
        "notebookgrader": {
          "id": "3342e30173810e334e65a16882a6d54c563901d4",
          "readonly": true
        }
      },
      "source": [
        "Now we filter all the tokens, dropping both those that are very common, and fairly rare."
      ]
    },
    {
      "cell_type": "code",
      "execution_count": null,
      "metadata": {
        "id": "FXEwaUBWcFYh",
        "notebookgrader": {
          "id": "394f5f06d2b93ecbb3be488fe1ad32e65b175c19",
          "is_solution": false,
          "is_tests": false,
          "readonly": true
        }
      },
      "outputs": [],
      "source": [
        "LOW_THRESHOLD =25\n",
        "HIGH_THRESHOLD = 1000\n",
        "\n",
        "c = collections.Counter(all_tokens)\n",
        "most_common = [t for t, _ in c.most_common(HIGH_THRESHOLD)[LOW_THRESHOLD:]]\n",
        "\n",
        "def filter_tokens(tokens):\n",
        "    return [t for t in tokens if t in most_common]\n",
        "\n",
        "book_tokens = [filter_tokens(tokens) for tokens in book_tokens]"
      ]
    },
    {
      "cell_type": "markdown",
      "metadata": {
        "id": "UWsUn0OyKybu",
        "notebookgrader": {
          "id": "23ef9dbac25c823938059c2a637b44b55f4e87f5",
          "readonly": true
        }
      },
      "source": [
        "Computes the probability of tokens in the union of the books."
      ]
    },
    {
      "cell_type": "code",
      "execution_count": null,
      "metadata": {
        "id": "pja5xuQWCL3P",
        "notebookgrader": {
          "id": "1c963f8eba4db65e5a5d143496ad91860305312e",
          "is_solution": false,
          "is_tests": false,
          "readonly": true
        }
      },
      "outputs": [],
      "source": [
        "c = collections.Counter(all_tokens)\n",
        "num_tokens = len(all_tokens)\n",
        "vocabulary_probs = {word: count / num_tokens for word, count in c.items()}"
      ]
    },
    {
      "cell_type": "markdown",
      "metadata": {
        "id": "_3F85fIKSbaQ",
        "notebookgrader": {
          "id": "2e3a297ccfc570da3a6507d8bca49458cdc99190",
          "readonly": true
        }
      },
      "source": [
        "Let's now build our `Author` class, this time with methods to compute the distribution distance between two authors, using KL-divergence and Earth Mover's Distance (EMD)."
      ]
    },
    {
      "cell_type": "markdown",
      "metadata": {
        "id": "dpRzmLHBmipp",
        "notebookgrader": {
          "id": "442c536b29179ec61952996d7aae6e51de1acda5",
          "readonly": true
        }
      },
      "source": [
        "Complete the class below, inserting code where `### YOUR SOLUTION HERE` appears.\n",
        "\n",
        "We remind you of the main formulas.\n",
        "\n",
        "For a word $w$, let:\n",
        "* $P(w)$ be the probability of word $w$ in the general vocabulary.\n",
        "* $K_w$ be the number of times the author uses $w$ in the author's text.\n",
        "* $K$ be the number of words in the author's text.\n",
        "* $\\alpha$ be the Laplace smooting coefficient.\n",
        "\n",
        "Then, the probability that the author generates word $w$ is given by:\n",
        "\n",
        "$$\\theta_w = \\frac{K_w + \\alpha P(w)}{K + \\alpha}$$\n",
        "\n",
        "Given this word probability, you have to compute the distance between the author's vocabulary, and the vocabulary of another author.  You should do so using two versions of distance:\n",
        "\n",
        "* KL-Divergence\n",
        "* Earth Mover's Distance\n",
        "* Jensen-Shannon Divergence\n",
        "\n",
        "The Jenssen-Shannon Divergence is a symmetrized and smoothed version of KL-Divergence.  It is defined as follows:\n",
        "\n",
        "$$JSD(P || Q) = \\frac{1}{2} KL(P || M) + \\frac{1}{2} KL(Q || M)$$\n",
        "\n",
        "where $M = \\frac{1}{2}(P + Q)$."
      ]
    },
    {
      "cell_type": "code",
      "execution_count": null,
      "metadata": {
        "id": "EU-G1i5gFPCq",
        "notebookgrader": {
          "id": "e647771670c1dd2f7c0649a898ff33b990a3bd11",
          "is_solution": true,
          "is_tests": false,
          "readonly": false
        }
      },
      "outputs": [],
      "source": [
        "# You can use this code cell to define any code that is useful to you\n",
        "# (e.g., define a function that you use later in the class).\n",
        "# Just write it here.  Or, you can also leave this cell blank if you don't need\n",
        "# any definition.\n",
        "\n",
        "### YOUR SOLUTION HERE"
      ]
    },
    {
      "cell_type": "code",
      "execution_count": null,
      "metadata": {
        "id": "xS0qEmR9keIS",
        "notebookgrader": {
          "id": "3089fc3c25f74d0a7ace44433814d73ec750185b",
          "is_solution": true,
          "is_tests": false,
          "readonly": false
        }
      },
      "outputs": [],
      "source": [
        "class Author(object):\n",
        "\n",
        "    def __init__(self, name, author_tokens, vocabulary_probabilities, alpha=100):\n",
        "        \"\"\"Initializes the author with the given name and text.\n",
        "        Also tokenizes the text with spaCy, and stores the list of tokens.\n",
        "        @param name: name of the author.\n",
        "        @param text: tokenized text constituting writing sample for the author.\n",
        "        @param vocabulary_probabilities: dictionary mapping each word to its probability\n",
        "            in the vocabulary (general vocabulary, not by the author).\n",
        "        @param alpha: value to be used in the Laplace smoothing function.\n",
        "        \"\"\"\n",
        "        self.name = name\n",
        "        self.text = text\n",
        "        self.alpha = alpha\n",
        "        self.author_tokens = author_tokens\n",
        "        self.num_tokens = len(self.author_tokens)\n",
        "        self.vocabulary = vocabulary_probabilities\n",
        "        # We also build for you a dictionary mapping each word to its number of occurrences in the\n",
        "        self.word_frequencies = {w: c for w, c in collections.Counter(self.author_tokens).items()}\n",
        "        # Here you can add any other initialization code you want.\n",
        "        ### YOUR SOLUTION HERE\n",
        "\n",
        "    def theta(self, word):\n",
        "        \"\"\"Returns the probability that an author generates a given word.\n",
        "        This is the theta in the above mathematical formula.\n",
        "        You use this to compute the probability distribution of author words.\n",
        "        The domain of this distribution is the vocabulary.\n",
        "        \"\"\"\n",
        "        ### YOUR SOLUTION HERE\n",
        "        kw = self.word_frequencies.get(word, 0)\n",
        "        pw = self.vocabulary.get(word, 0)\n",
        "        return (kw + (self.alpha * pw)) / (self.num_tokens + self.alpha)\n",
        "\n",
        "    def kl_divergence(self, other):\n",
        "        \"\"\"Computes KL(other || self). This is the KL divergence.\"\"\"\n",
        "        ### YOUR SOLUTION HERE\n",
        "        total = 0\n",
        "        for word in other.word_frequencies.keys():\n",
        "          px = other.theta(word)\n",
        "          qx = self.theta(word)\n",
        "          if qx == 0:\n",
        "            continue\n",
        "          total += (px * math.log(px / qx))\n",
        "        return total\n",
        "\n",
        "    def js_divergence(self, other):\n",
        "        \"\"\"Computes the Jensen-Shannon divergence between self and other.\"\"\"\n",
        "        # pass\n",
        "        ### YOUR SOLUTION HERE\n",
        "        words = set(self.word_frequencies.keys()).union(set(other.word_frequencies.keys()))\n",
        "\n",
        "        m = {}\n",
        "        for word in words:\n",
        "          p = self.theta(word)\n",
        "          q = other.theta(word)\n",
        "          m[word] = (p + q) / 2\n",
        "\n",
        "        kl_self_m = 0\n",
        "        kl_other_m = 0\n",
        "\n",
        "        for word in words:\n",
        "          p = self.theta(word)\n",
        "          q = other.theta(word)\n",
        "          m_prob = m[word]\n",
        "\n",
        "          if p > 0 and q > 0:\n",
        "            kl_self_m += p * math.log(p / m_prob)\n",
        "          if q > 0 and m_prob > 0:\n",
        "            kl_other_m += q * math.log(q / m_prob)\n",
        "        jsd = (0.5 * kl_self_m) + (0.5 * kl_other_m)\n",
        "        return jsd\n",
        "\n",
        "\n",
        "    def em_distance(self, other):\n",
        "        \"\"\"Computes the earth mover's distance between self and other.\"\"\"\n",
        "        ### YOUR SOLUTION HERE\n",
        "        words = set(self.word_frequencies.keys()).union(set(other.word_frequencies.keys()))\n",
        "\n",
        "        total = 0\n",
        "        for word in words:\n",
        "          p = self.theta(word)\n",
        "          q = other.theta(word)\n",
        "          total += abs(p - q)\n",
        "        emd = 0.5 * total\n",
        "        return emd\n"
      ]
    },
    {
      "cell_type": "markdown",
      "metadata": {
        "id": "YVtrselRqI-3",
        "notebookgrader": {
          "id": "5b635f3b33122c75b36f9a7ab34e6fe830e89ed2",
          "readonly": true
        }
      },
      "source": [
        "Ok.  Now, we can create our three authors."
      ]
    },
    {
      "cell_type": "code",
      "execution_count": null,
      "metadata": {
        "id": "OjwpnJC-fYsK",
        "notebookgrader": {
          "id": "b1e88a9bdc3886f4dcacf2038def5ee022c4acae",
          "is_solution": false,
          "is_tests": false,
          "readonly": true
        }
      },
      "outputs": [],
      "source": [
        "true_books = {\n",
        "    'doyle': book_tokens[0],\n",
        "    'austin': book_tokens[1],\n",
        "    'christie': book_tokens[2],\n",
        "}\n",
        "\n",
        "# We can build authors from these writing samples.\n",
        "authors = {\n",
        "    name: Author(name, tokens, vocabulary_probs) for name, tokens in true_books.items()\n",
        "}\n"
      ]
    },
    {
      "cell_type": "markdown",
      "metadata": {
        "id": "UZrU6FKqNI21",
        "notebookgrader": {
          "id": "0ec1ead5ba09d71b9a2d6ad0feef925fa21c99b2",
          "readonly": true
        }
      },
      "source": [
        "Let's create our 8 unknown authors for the 8 pieces of text.\n",
        "Of course, you do know the authors of 0, 1, 2, as they have been chosen as\n",
        "Doyle, Austin, Christie."
      ]
    },
    {
      "cell_type": "code",
      "execution_count": null,
      "metadata": {
        "id": "C3g5mk0g6YGr",
        "notebookgrader": {
          "id": "70e7794ba2829ce5d4114313a9459886f2fa9a23",
          "is_solution": false,
          "is_tests": false,
          "readonly": true
        }
      },
      "outputs": [],
      "source": [
        "unknown_authors = [Author(f\"unknown_{i}\",t, vocabulary_probs) for i, t in enumerate(book_tokens[0:])]"
      ]
    },
    {
      "cell_type": "markdown",
      "metadata": {
        "id": "_dyOVg7dSKQL",
        "notebookgrader": {
          "id": "a0b03b85e3f09e9e8015c9877296d70e2debbf0f",
          "readonly": true
        }
      },
      "source": [
        "We can then print the JS-distance between each unknown author and Doyle, just as a test.\n",
        "I print it in both directions, so you can check it's symmetric.\n",
        "I will also include a test to help you debug your code."
      ]
    },
    {
      "cell_type": "code",
      "execution_count": null,
      "metadata": {
        "id": "Q8qZYbE3dlkT",
        "notebookgrader": {
          "id": "9c9d6db68d5b4be01704d6c30252d44abafbccd1",
          "is_solution": false,
          "is_tests": false,
          "readonly": true
        },
        "colab": {
          "base_uri": "https://localhost:8080/"
        },
        "outputId": "b834825f-65cf-4ecb-95a3-88a63016b4c8"
      },
      "outputs": [
        {
          "output_type": "stream",
          "name": "stdout",
          "text": [
            "0.0 0.0\n",
            "0.18859853719894465 0.18859853719894465\n",
            "0.16622858885787872 0.16622858885787872\n",
            "0.10739191699610635 0.10739191699610635\n",
            "0.16507635547606891 0.1650763554760689\n",
            "0.1794005828499619 0.1794005828499619\n",
            "0.15850572859540715 0.15850572859540718\n",
            "0.18414293798998269 0.18414293798998269\n"
          ]
        }
      ],
      "source": [
        "for u in unknown_authors:\n",
        "    print(authors['doyle'].js_divergence(u), u.js_divergence(authors['doyle']))"
      ]
    },
    {
      "cell_type": "markdown",
      "metadata": {
        "id": "DaUURjL7c5p_",
        "notebookgrader": {
          "id": "f3bbbd277b1b5784eb956b0c69d10bac48c73821",
          "readonly": true
        }
      },
      "source": [
        "First, the test."
      ]
    },
    {
      "cell_type": "code",
      "execution_count": null,
      "metadata": {
        "id": "PihbXfcX-qUG",
        "notebookgrader": {
          "id": "0e471d5148531e3a3e6c5edb126cd704501d7f42",
          "is_solution": false,
          "is_tests": true,
          "readonly": true,
          "test_points": 10
        }
      },
      "outputs": [],
      "source": [
        "# Tests 10 points: JS divergence.\n",
        "\n",
        "assert authors['doyle'].js_divergence(authors['doyle']) == 0\n",
        "assert 0.175 <= authors['doyle'].js_divergence(unknown_authors[5]) <= 0.185\n",
        "\n"
      ]
    },
    {
      "cell_type": "markdown",
      "metadata": {
        "id": "l83gwwDw4L0E",
        "notebookgrader": {
          "id": "c000e57355170c85f7ebeee4184af0723d116d16",
          "readonly": true
        }
      },
      "source": [
        "Now let's look at the Earth-Mover's distance.  Again let's print it in both directions."
      ]
    },
    {
      "cell_type": "code",
      "execution_count": null,
      "metadata": {
        "id": "C889inW6qEfp",
        "notebookgrader": {
          "id": "d668a1810cb7ced0ba4b1929dd96ec5b2a5a252b",
          "is_solution": false,
          "is_tests": false,
          "readonly": true
        },
        "colab": {
          "base_uri": "https://localhost:8080/"
        },
        "outputId": "6b4ba4fd-549d-410f-f044-4a5257778288"
      },
      "outputs": [
        {
          "output_type": "stream",
          "name": "stdout",
          "text": [
            "0.0 0.0\n",
            "0.44618954454960985 0.44618954454960985\n",
            "0.4084918731044849 0.4084918731044849\n",
            "0.30848535413164 0.30848535413164\n",
            "0.40879577593571553 0.40879577593571553\n",
            "0.43056901511518286 0.43056901511518286\n",
            "0.38508390817162214 0.38508390817162214\n",
            "0.4289887148145943 0.4289887148145942\n"
          ]
        }
      ],
      "source": [
        "for u in unknown_authors:\n",
        "    print(authors['doyle'].em_distance(u), u.em_distance(authors['doyle']))"
      ]
    },
    {
      "cell_type": "markdown",
      "metadata": {
        "id": "gC8dOHc56Vbt",
        "notebookgrader": {
          "id": "baf9281cf84bd7b6a7b2ffa8e3b91c7ef23dcb37",
          "readonly": true
        }
      },
      "source": [
        "Again, here is a test to help you debug your code."
      ]
    },
    {
      "cell_type": "code",
      "execution_count": null,
      "metadata": {
        "id": "dJ9vzum96gO9",
        "notebookgrader": {
          "id": "b17f449f5a8a97bb396c3f65620226bda26f92c1",
          "is_solution": false,
          "is_tests": true,
          "readonly": true,
          "test_points": 10
        }
      },
      "outputs": [],
      "source": [
        "# Tests 10 points: JS divergence between known authors.\n",
        "\n",
        "assert authors['doyle'].em_distance(authors['doyle']) == 0\n",
        "assert 0.43 <= authors['doyle'].em_distance(unknown_authors[5]) <= 0.44\n",
        "\n"
      ]
    },
    {
      "cell_type": "markdown",
      "metadata": {
        "id": "5b5MIH5IM3-P",
        "notebookgrader": {
          "id": "85b6265056d28d1fd9ba2e8e4372d0f450e1c84a",
          "readonly": true
        }
      },
      "source": [
        "Now we would like to combine JS and EMD into a single distance.  \n",
        "We cannot do so by simply adding them, as they are expressed in different units.\n",
        "One way would be to somehow normalize them and then add them, but that's not very satisfactory.\n",
        "Instead, one thing you can always do with quantities expressed in different units is to multiply them.\n",
        "This suggests using the _geometric mean_ $g(d_1, d_2)$ of the two distances $d_1$ and $d_2$, defined as:\n",
        "\n",
        "$$g(d_1, d_2) = \\sqrt{d_1 \\cdot d_2}$$\n",
        "\n",
        "We leave it to you to implement.\n",
        "\n",
        "Note that using the geometric mean implies that if one distance is zero, so will be the combined distance.\n",
        "If this is not what is intended, one can compute the geometric mean of the inverses of the distances, and then invert the result (careful about division by zero).  We are not going to follow this approach, because in our case, if one distance is zero, they all are."
      ]
    },
    {
      "cell_type": "code",
      "execution_count": null,
      "metadata": {
        "id": "6eNb6cAZjkkK",
        "notebookgrader": {
          "id": "5d5618df9422d1d29420b22141cd32482f5bc6f3",
          "is_solution": true,
          "is_tests": false,
          "readonly": false
        }
      },
      "outputs": [],
      "source": [
        "def geometric_mean(d1, d2):\n",
        "    \"\"\"Computes the geometric mean of two distances.\"\"\"\n",
        "    ### YOUR SOLUTION HERE\n",
        "    return math.sqrt(d1 * d2)"
      ]
    },
    {
      "cell_type": "markdown",
      "metadata": {
        "id": "jr7jgyArbFzX",
        "notebookgrader": {
          "id": "24c00b5d142878b7e6fdb7e9c910f6cd2d51e486",
          "readonly": true
        }
      },
      "source": [
        "Now let's compute the combined distance between the three known authors and each unknown author."
      ]
    },
    {
      "cell_type": "code",
      "execution_count": null,
      "metadata": {
        "id": "xg29qp2FW2rH",
        "notebookgrader": {
          "id": "a2034fe89f29d90870bce9f9cfbe4e0ab01e2065",
          "is_solution": false,
          "is_tests": false,
          "readonly": true
        },
        "colab": {
          "base_uri": "https://localhost:8080/"
        },
        "outputId": "5c64f5b9-cc5b-4cf3-ce6d-1fa1f8f625ef"
      },
      "outputs": [
        {
          "output_type": "stream",
          "name": "stdout",
          "text": [
            "Distances to doyle:\n",
            "0.0 doyle\n",
            "0.2900873927207451 austin\n",
            "0.26058209383238556 christie\n",
            "0.1820132784865422 unknown_3\n",
            "0.25977397257130974 unknown_4\n",
            "0.2779286460025268 unknown_5\n",
            "0.24705870847859185 unknown_6\n",
            "0.2810609227738822 unknown_7\n",
            "\n",
            "Distances to austin:\n",
            "0.2900873927207451 doyle\n",
            "0.0 austin\n",
            "0.3316369213546566 christie\n",
            "0.2793740592983807 unknown_3\n",
            "0.3058089474134614 unknown_4\n",
            "0.3076363344405622 unknown_5\n",
            "0.3159298400647696 unknown_6\n",
            "0.11203694637580915 unknown_7\n",
            "\n",
            "Distances to christie:\n",
            "0.26058209383238556 doyle\n",
            "0.33163692135465656 austin\n",
            "0.0 christie\n",
            "0.22661455273138312 unknown_3\n",
            "0.27063545470799977 unknown_4\n",
            "0.3054650165769652 unknown_5\n",
            "0.14694113973744824 unknown_6\n",
            "0.3162758081772721 unknown_7\n",
            "\n"
          ]
        }
      ],
      "source": [
        "real_authors = ['doyle', 'austin', 'christie']\n",
        "for a in real_authors:\n",
        "    print(f\"Distances to {a}:\")\n",
        "    for i, u in enumerate(unknown_authors):\n",
        "        em = authors[a].em_distance(u)\n",
        "        js = authors[a].js_divergence(u)\n",
        "        print(geometric_mean(em, js), u.name if i > 2 else real_authors[i])\n",
        "    print()"
      ]
    },
    {
      "cell_type": "markdown",
      "metadata": {
        "id": "1FRTc6vhXPUa",
        "notebookgrader": {
          "id": "f71bad54093f4fc81ed66a95a650c736694c4434",
          "readonly": true
        }
      },
      "source": [
        "In the above, every known author has authored exactly one of the unknown texts\n",
        "(there are some unknown texts by other authors in the mix).\n",
        "Can you propose a threshold `t` on the combined distance, so that if the combined distance between a known author and an unknown text is less than `t`, we can attribute the unknown text to the known author?"
      ]
    },
    {
      "cell_type": "code",
      "execution_count": null,
      "metadata": {
        "id": "19YBqdulP6I2",
        "notebookgrader": {
          "id": "99aa1d872da5f30d8de68ad82731c076f815d2f2",
          "is_solution": true,
          "is_tests": false,
          "readonly": false
        }
      },
      "outputs": [],
      "source": [
        "t = 0.0 # This does not work; please assign the proper value to t below the `YOUR SOLUTION HERE` comment.\n",
        "### YOUR SOLUTION HERE\n",
        "t = 0.2"
      ]
    },
    {
      "cell_type": "markdown",
      "metadata": {
        "id": "bBu0MA-YhcU1",
        "notebookgrader": {
          "id": "9d8b1f5d9b7ce194f70b10b0b84fe41e0439b2e1",
          "readonly": true
        }
      },
      "source": [
        "A proper threshold should lead to exactly one unknown text being attributed to each known author."
      ]
    },
    {
      "cell_type": "code",
      "execution_count": null,
      "metadata": {
        "id": "SZURuL60_rz8",
        "notebookgrader": {
          "id": "f29e159b253beb7286b94bba33f42f846a0e33cf",
          "is_solution": false,
          "is_tests": true,
          "readonly": true,
          "test_points": 10
        }
      },
      "outputs": [],
      "source": [
        "# Tests 10 points: identifying unknown authors using a threshold.\n",
        "\n",
        "real_authors = ['doyle', 'austin', 'christie']\n",
        "for a in real_authors:\n",
        "    candidates = set()\n",
        "    for u in unknown_authors[3:]:\n",
        "        em = authors[a].em_distance(u)\n",
        "        js = authors[a].js_divergence(u)\n",
        "        if geometric_mean(em, js) < t:\n",
        "            candidates.add(u.name)\n",
        "    assert len(candidates) == 1, f\"Too few or many candidates for {a}: {len(candidates)}\""
      ]
    },
    {
      "cell_type": "markdown",
      "metadata": {
        "id": "1ud2K_tmEhMT",
        "notebookgrader": {
          "id": "dbec40ded105b85519cf8474262c6ff98461d461",
          "readonly": true
        }
      },
      "source": [
        "## Part 2: Experimenting with algorithm running times"
      ]
    },
    {
      "cell_type": "code",
      "execution_count": null,
      "metadata": {
        "id": "YdlncRNxMs1V",
        "notebookgrader": {
          "id": "a5c465bd34c761ad11e49f2da8395e304764cee9",
          "is_solution": false,
          "is_tests": false,
          "readonly": true
        }
      },
      "outputs": [],
      "source": [
        "import numpy as np\n",
        "import pandas as pd"
      ]
    },
    {
      "cell_type": "markdown",
      "metadata": {
        "id": "yE8DR-ZnjDWF",
        "notebookgrader": {
          "id": "1bfdd694d36a3613c1e052de61380fc1b9272639",
          "readonly": true
        }
      },
      "source": [
        "This is a Pandas dataframe that contains the running time of two algorithms, a baseline algorithm, and a proposed one."
      ]
    },
    {
      "cell_type": "code",
      "execution_count": null,
      "metadata": {
        "id": "YszEff246nVl",
        "notebookgrader": {
          "id": "905bba850bd5578f12e0a4f26399d5757935f1a3",
          "is_solution": false,
          "is_tests": false,
          "readonly": true
        },
        "colab": {
          "base_uri": "https://localhost:8080/",
          "height": 423
        },
        "outputId": "aa20da9a-43e2-4167-e1f9-b2323c2439fd"
      },
      "outputs": [
        {
          "output_type": "execute_result",
          "data": {
            "text/plain": [
              "      baseline   proposed\n",
              "0    10.468354  10.260609\n",
              "1    10.773350   8.710510\n",
              "2     6.559294  12.279273\n",
              "3     8.642563   8.655421\n",
              "4     6.857395  11.083264\n",
              "..         ...        ...\n",
              "995  10.591735  10.798005\n",
              "996  10.304661   8.316180\n",
              "997  10.400740   9.385383\n",
              "998  13.058192  13.881584\n",
              "999   9.352837   8.722376\n",
              "\n",
              "[1000 rows x 2 columns]"
            ],
            "text/html": [
              "\n",
              "  <div id=\"df-fa753aff-2704-4fc7-b3c1-72f70f274bdf\" class=\"colab-df-container\">\n",
              "    <div>\n",
              "<style scoped>\n",
              "    .dataframe tbody tr th:only-of-type {\n",
              "        vertical-align: middle;\n",
              "    }\n",
              "\n",
              "    .dataframe tbody tr th {\n",
              "        vertical-align: top;\n",
              "    }\n",
              "\n",
              "    .dataframe thead th {\n",
              "        text-align: right;\n",
              "    }\n",
              "</style>\n",
              "<table border=\"1\" class=\"dataframe\">\n",
              "  <thead>\n",
              "    <tr style=\"text-align: right;\">\n",
              "      <th></th>\n",
              "      <th>baseline</th>\n",
              "      <th>proposed</th>\n",
              "    </tr>\n",
              "  </thead>\n",
              "  <tbody>\n",
              "    <tr>\n",
              "      <th>0</th>\n",
              "      <td>10.468354</td>\n",
              "      <td>10.260609</td>\n",
              "    </tr>\n",
              "    <tr>\n",
              "      <th>1</th>\n",
              "      <td>10.773350</td>\n",
              "      <td>8.710510</td>\n",
              "    </tr>\n",
              "    <tr>\n",
              "      <th>2</th>\n",
              "      <td>6.559294</td>\n",
              "      <td>12.279273</td>\n",
              "    </tr>\n",
              "    <tr>\n",
              "      <th>3</th>\n",
              "      <td>8.642563</td>\n",
              "      <td>8.655421</td>\n",
              "    </tr>\n",
              "    <tr>\n",
              "      <th>4</th>\n",
              "      <td>6.857395</td>\n",
              "      <td>11.083264</td>\n",
              "    </tr>\n",
              "    <tr>\n",
              "      <th>...</th>\n",
              "      <td>...</td>\n",
              "      <td>...</td>\n",
              "    </tr>\n",
              "    <tr>\n",
              "      <th>995</th>\n",
              "      <td>10.591735</td>\n",
              "      <td>10.798005</td>\n",
              "    </tr>\n",
              "    <tr>\n",
              "      <th>996</th>\n",
              "      <td>10.304661</td>\n",
              "      <td>8.316180</td>\n",
              "    </tr>\n",
              "    <tr>\n",
              "      <th>997</th>\n",
              "      <td>10.400740</td>\n",
              "      <td>9.385383</td>\n",
              "    </tr>\n",
              "    <tr>\n",
              "      <th>998</th>\n",
              "      <td>13.058192</td>\n",
              "      <td>13.881584</td>\n",
              "    </tr>\n",
              "    <tr>\n",
              "      <th>999</th>\n",
              "      <td>9.352837</td>\n",
              "      <td>8.722376</td>\n",
              "    </tr>\n",
              "  </tbody>\n",
              "</table>\n",
              "<p>1000 rows × 2 columns</p>\n",
              "</div>\n",
              "    <div class=\"colab-df-buttons\">\n",
              "\n",
              "  <div class=\"colab-df-container\">\n",
              "    <button class=\"colab-df-convert\" onclick=\"convertToInteractive('df-fa753aff-2704-4fc7-b3c1-72f70f274bdf')\"\n",
              "            title=\"Convert this dataframe to an interactive table.\"\n",
              "            style=\"display:none;\">\n",
              "\n",
              "  <svg xmlns=\"http://www.w3.org/2000/svg\" height=\"24px\" viewBox=\"0 -960 960 960\">\n",
              "    <path d=\"M120-120v-720h720v720H120Zm60-500h600v-160H180v160Zm220 220h160v-160H400v160Zm0 220h160v-160H400v160ZM180-400h160v-160H180v160Zm440 0h160v-160H620v160ZM180-180h160v-160H180v160Zm440 0h160v-160H620v160Z\"/>\n",
              "  </svg>\n",
              "    </button>\n",
              "\n",
              "  <style>\n",
              "    .colab-df-container {\n",
              "      display:flex;\n",
              "      gap: 12px;\n",
              "    }\n",
              "\n",
              "    .colab-df-convert {\n",
              "      background-color: #E8F0FE;\n",
              "      border: none;\n",
              "      border-radius: 50%;\n",
              "      cursor: pointer;\n",
              "      display: none;\n",
              "      fill: #1967D2;\n",
              "      height: 32px;\n",
              "      padding: 0 0 0 0;\n",
              "      width: 32px;\n",
              "    }\n",
              "\n",
              "    .colab-df-convert:hover {\n",
              "      background-color: #E2EBFA;\n",
              "      box-shadow: 0px 1px 2px rgba(60, 64, 67, 0.3), 0px 1px 3px 1px rgba(60, 64, 67, 0.15);\n",
              "      fill: #174EA6;\n",
              "    }\n",
              "\n",
              "    .colab-df-buttons div {\n",
              "      margin-bottom: 4px;\n",
              "    }\n",
              "\n",
              "    [theme=dark] .colab-df-convert {\n",
              "      background-color: #3B4455;\n",
              "      fill: #D2E3FC;\n",
              "    }\n",
              "\n",
              "    [theme=dark] .colab-df-convert:hover {\n",
              "      background-color: #434B5C;\n",
              "      box-shadow: 0px 1px 3px 1px rgba(0, 0, 0, 0.15);\n",
              "      filter: drop-shadow(0px 1px 2px rgba(0, 0, 0, 0.3));\n",
              "      fill: #FFFFFF;\n",
              "    }\n",
              "  </style>\n",
              "\n",
              "    <script>\n",
              "      const buttonEl =\n",
              "        document.querySelector('#df-fa753aff-2704-4fc7-b3c1-72f70f274bdf button.colab-df-convert');\n",
              "      buttonEl.style.display =\n",
              "        google.colab.kernel.accessAllowed ? 'block' : 'none';\n",
              "\n",
              "      async function convertToInteractive(key) {\n",
              "        const element = document.querySelector('#df-fa753aff-2704-4fc7-b3c1-72f70f274bdf');\n",
              "        const dataTable =\n",
              "          await google.colab.kernel.invokeFunction('convertToInteractive',\n",
              "                                                    [key], {});\n",
              "        if (!dataTable) return;\n",
              "\n",
              "        const docLinkHtml = 'Like what you see? Visit the ' +\n",
              "          '<a target=\"_blank\" href=https://colab.research.google.com/notebooks/data_table.ipynb>data table notebook</a>'\n",
              "          + ' to learn more about interactive tables.';\n",
              "        element.innerHTML = '';\n",
              "        dataTable['output_type'] = 'display_data';\n",
              "        await google.colab.output.renderOutput(dataTable, element);\n",
              "        const docLink = document.createElement('div');\n",
              "        docLink.innerHTML = docLinkHtml;\n",
              "        element.appendChild(docLink);\n",
              "      }\n",
              "    </script>\n",
              "  </div>\n",
              "\n",
              "\n",
              "    <div id=\"df-51445bac-8f84-430f-94d0-04a8dfd34d2c\">\n",
              "      <button class=\"colab-df-quickchart\" onclick=\"quickchart('df-51445bac-8f84-430f-94d0-04a8dfd34d2c')\"\n",
              "                title=\"Suggest charts\"\n",
              "                style=\"display:none;\">\n",
              "\n",
              "<svg xmlns=\"http://www.w3.org/2000/svg\" height=\"24px\"viewBox=\"0 0 24 24\"\n",
              "     width=\"24px\">\n",
              "    <g>\n",
              "        <path d=\"M19 3H5c-1.1 0-2 .9-2 2v14c0 1.1.9 2 2 2h14c1.1 0 2-.9 2-2V5c0-1.1-.9-2-2-2zM9 17H7v-7h2v7zm4 0h-2V7h2v10zm4 0h-2v-4h2v4z\"/>\n",
              "    </g>\n",
              "</svg>\n",
              "      </button>\n",
              "\n",
              "<style>\n",
              "  .colab-df-quickchart {\n",
              "      --bg-color: #E8F0FE;\n",
              "      --fill-color: #1967D2;\n",
              "      --hover-bg-color: #E2EBFA;\n",
              "      --hover-fill-color: #174EA6;\n",
              "      --disabled-fill-color: #AAA;\n",
              "      --disabled-bg-color: #DDD;\n",
              "  }\n",
              "\n",
              "  [theme=dark] .colab-df-quickchart {\n",
              "      --bg-color: #3B4455;\n",
              "      --fill-color: #D2E3FC;\n",
              "      --hover-bg-color: #434B5C;\n",
              "      --hover-fill-color: #FFFFFF;\n",
              "      --disabled-bg-color: #3B4455;\n",
              "      --disabled-fill-color: #666;\n",
              "  }\n",
              "\n",
              "  .colab-df-quickchart {\n",
              "    background-color: var(--bg-color);\n",
              "    border: none;\n",
              "    border-radius: 50%;\n",
              "    cursor: pointer;\n",
              "    display: none;\n",
              "    fill: var(--fill-color);\n",
              "    height: 32px;\n",
              "    padding: 0;\n",
              "    width: 32px;\n",
              "  }\n",
              "\n",
              "  .colab-df-quickchart:hover {\n",
              "    background-color: var(--hover-bg-color);\n",
              "    box-shadow: 0 1px 2px rgba(60, 64, 67, 0.3), 0 1px 3px 1px rgba(60, 64, 67, 0.15);\n",
              "    fill: var(--button-hover-fill-color);\n",
              "  }\n",
              "\n",
              "  .colab-df-quickchart-complete:disabled,\n",
              "  .colab-df-quickchart-complete:disabled:hover {\n",
              "    background-color: var(--disabled-bg-color);\n",
              "    fill: var(--disabled-fill-color);\n",
              "    box-shadow: none;\n",
              "  }\n",
              "\n",
              "  .colab-df-spinner {\n",
              "    border: 2px solid var(--fill-color);\n",
              "    border-color: transparent;\n",
              "    border-bottom-color: var(--fill-color);\n",
              "    animation:\n",
              "      spin 1s steps(1) infinite;\n",
              "  }\n",
              "\n",
              "  @keyframes spin {\n",
              "    0% {\n",
              "      border-color: transparent;\n",
              "      border-bottom-color: var(--fill-color);\n",
              "      border-left-color: var(--fill-color);\n",
              "    }\n",
              "    20% {\n",
              "      border-color: transparent;\n",
              "      border-left-color: var(--fill-color);\n",
              "      border-top-color: var(--fill-color);\n",
              "    }\n",
              "    30% {\n",
              "      border-color: transparent;\n",
              "      border-left-color: var(--fill-color);\n",
              "      border-top-color: var(--fill-color);\n",
              "      border-right-color: var(--fill-color);\n",
              "    }\n",
              "    40% {\n",
              "      border-color: transparent;\n",
              "      border-right-color: var(--fill-color);\n",
              "      border-top-color: var(--fill-color);\n",
              "    }\n",
              "    60% {\n",
              "      border-color: transparent;\n",
              "      border-right-color: var(--fill-color);\n",
              "    }\n",
              "    80% {\n",
              "      border-color: transparent;\n",
              "      border-right-color: var(--fill-color);\n",
              "      border-bottom-color: var(--fill-color);\n",
              "    }\n",
              "    90% {\n",
              "      border-color: transparent;\n",
              "      border-bottom-color: var(--fill-color);\n",
              "    }\n",
              "  }\n",
              "</style>\n",
              "\n",
              "      <script>\n",
              "        async function quickchart(key) {\n",
              "          const quickchartButtonEl =\n",
              "            document.querySelector('#' + key + ' button');\n",
              "          quickchartButtonEl.disabled = true;  // To prevent multiple clicks.\n",
              "          quickchartButtonEl.classList.add('colab-df-spinner');\n",
              "          try {\n",
              "            const charts = await google.colab.kernel.invokeFunction(\n",
              "                'suggestCharts', [key], {});\n",
              "          } catch (error) {\n",
              "            console.error('Error during call to suggestCharts:', error);\n",
              "          }\n",
              "          quickchartButtonEl.classList.remove('colab-df-spinner');\n",
              "          quickchartButtonEl.classList.add('colab-df-quickchart-complete');\n",
              "        }\n",
              "        (() => {\n",
              "          let quickchartButtonEl =\n",
              "            document.querySelector('#df-51445bac-8f84-430f-94d0-04a8dfd34d2c button');\n",
              "          quickchartButtonEl.style.display =\n",
              "            google.colab.kernel.accessAllowed ? 'block' : 'none';\n",
              "        })();\n",
              "      </script>\n",
              "    </div>\n",
              "\n",
              "  <div id=\"id_113ba2c5-89e5-4b6b-8ca1-4adca2249347\">\n",
              "    <style>\n",
              "      .colab-df-generate {\n",
              "        background-color: #E8F0FE;\n",
              "        border: none;\n",
              "        border-radius: 50%;\n",
              "        cursor: pointer;\n",
              "        display: none;\n",
              "        fill: #1967D2;\n",
              "        height: 32px;\n",
              "        padding: 0 0 0 0;\n",
              "        width: 32px;\n",
              "      }\n",
              "\n",
              "      .colab-df-generate:hover {\n",
              "        background-color: #E2EBFA;\n",
              "        box-shadow: 0px 1px 2px rgba(60, 64, 67, 0.3), 0px 1px 3px 1px rgba(60, 64, 67, 0.15);\n",
              "        fill: #174EA6;\n",
              "      }\n",
              "\n",
              "      [theme=dark] .colab-df-generate {\n",
              "        background-color: #3B4455;\n",
              "        fill: #D2E3FC;\n",
              "      }\n",
              "\n",
              "      [theme=dark] .colab-df-generate:hover {\n",
              "        background-color: #434B5C;\n",
              "        box-shadow: 0px 1px 3px 1px rgba(0, 0, 0, 0.15);\n",
              "        filter: drop-shadow(0px 1px 2px rgba(0, 0, 0, 0.3));\n",
              "        fill: #FFFFFF;\n",
              "      }\n",
              "    </style>\n",
              "    <button class=\"colab-df-generate\" onclick=\"generateWithVariable('df')\"\n",
              "            title=\"Generate code using this dataframe.\"\n",
              "            style=\"display:none;\">\n",
              "\n",
              "  <svg xmlns=\"http://www.w3.org/2000/svg\" height=\"24px\"viewBox=\"0 0 24 24\"\n",
              "       width=\"24px\">\n",
              "    <path d=\"M7,19H8.4L18.45,9,17,7.55,7,17.6ZM5,21V16.75L18.45,3.32a2,2,0,0,1,2.83,0l1.4,1.43a1.91,1.91,0,0,1,.58,1.4,1.91,1.91,0,0,1-.58,1.4L9.25,21ZM18.45,9,17,7.55Zm-12,3A5.31,5.31,0,0,0,4.9,8.1,5.31,5.31,0,0,0,1,6.5,5.31,5.31,0,0,0,4.9,4.9,5.31,5.31,0,0,0,6.5,1,5.31,5.31,0,0,0,8.1,4.9,5.31,5.31,0,0,0,12,6.5,5.46,5.46,0,0,0,6.5,12Z\"/>\n",
              "  </svg>\n",
              "    </button>\n",
              "    <script>\n",
              "      (() => {\n",
              "      const buttonEl =\n",
              "        document.querySelector('#id_113ba2c5-89e5-4b6b-8ca1-4adca2249347 button.colab-df-generate');\n",
              "      buttonEl.style.display =\n",
              "        google.colab.kernel.accessAllowed ? 'block' : 'none';\n",
              "\n",
              "      buttonEl.onclick = () => {\n",
              "        google.colab.notebook.generateWithVariable('df');\n",
              "      }\n",
              "      })();\n",
              "    </script>\n",
              "  </div>\n",
              "\n",
              "    </div>\n",
              "  </div>\n"
            ],
            "application/vnd.google.colaboratory.intrinsic+json": {
              "type": "dataframe",
              "variable_name": "df",
              "summary": "{\n  \"name\": \"df\",\n  \"rows\": 1000,\n  \"fields\": [\n    {\n      \"column\": \"baseline\",\n      \"properties\": {\n        \"dtype\": \"number\",\n        \"std\": 3.0658025546780436,\n        \"min\": 2.805133585662824,\n        \"max\": 20.85277791214362,\n        \"num_unique_values\": 1000,\n        \"samples\": [\n          8.690610306728821,\n          8.538786436491792,\n          6.604568830692872\n        ],\n        \"semantic_type\": \"\",\n        \"description\": \"\"\n      }\n    },\n    {\n      \"column\": \"proposed\",\n      \"properties\": {\n        \"dtype\": \"number\",\n        \"std\": 3.214301705580745,\n        \"min\": 2.990861254096429,\n        \"max\": 26.798756175401724,\n        \"num_unique_values\": 1000,\n        \"samples\": [\n          8.50415010043695,\n          12.90024549855756,\n          5.724443242566298\n        ],\n        \"semantic_type\": \"\",\n        \"description\": \"\"\n      }\n    }\n  ]\n}"
            }
          },
          "metadata": {},
          "execution_count": 40
        }
      ],
      "source": [
        "df = pd.read_csv(\"https://storage.googleapis.com/research-share/class_data/experiment_data.csv\")\n",
        "# df = pd.read_csv(\"experiment_data.csv\")\n",
        "df"
      ]
    },
    {
      "cell_type": "markdown",
      "metadata": {
        "id": "aIvy9SVNzyL3",
        "notebookgrader": {
          "id": "55f9e5a04b180c77027b3b27b6a98b8289ed4d45",
          "readonly": true
        }
      },
      "source": [
        "As you can see, the times are variable.  If you are unfamiliar with Pandas, you can ignore the details of dataframes, and you can\n",
        "get the list of times for each algorithm by using `df['baseline']` and `df['proposed']`.\n",
        "\n",
        "Your task is to propose a value of `N` (the input size) beyond which the proposed algorithm is faster than the baseline algorithm, with a significance value $t=3$ according to Welch's t-test.\n",
        "\n",
        "We do this in two steps.  The first step is to compute the mean, and sample variance, of each of the two series.\n",
        "For a series $x_1, x_2, \\ldots, x_n$, the mean is given by:\n",
        "\n",
        "$$\\mu = \\frac{1}{n} \\sum_{i=1}^n x_i$$\n",
        "\n",
        "and the sample variance $s^2$ is given by:\n",
        "\n",
        "$$s^2 = \\frac{1}{n-1} \\sum_{i=1}^n (x_i - \\mu)^2$$\n",
        "\n",
        "We have you implement these."
      ]
    },
    {
      "cell_type": "code",
      "execution_count": null,
      "metadata": {
        "id": "SDsVZaT3-I40",
        "notebookgrader": {
          "id": "421be3f95768ac935fbe78a1185c82dc004e8dac",
          "is_solution": true,
          "is_tests": false,
          "readonly": false
        }
      },
      "outputs": [],
      "source": [
        "def mean(data):\n",
        "    \"\"\"Computes the mean of a list of numbers.\"\"\"\n",
        "    ### YOUR SOLUTION HERE\n",
        "    return sum(data) / len(data)\n",
        "\n",
        "def sample_stdev(data):\n",
        "    \"\"\"Computes the sample standard deviation of a list of numbers.\"\"\"\n",
        "    ### YOUR SOLUTION HERE\n",
        "    variance = 0\n",
        "    total = 0\n",
        "    u = mean(data)\n",
        "\n",
        "    if len(data) == 1:\n",
        "      return 0\n",
        "\n",
        "    for x in data:\n",
        "      total += (x - u) ** 2\n",
        "\n",
        "    variance = (1 / (len(data) - 1)) * total\n",
        "    stdev = math.sqrt(variance)\n",
        "    return stdev\n"
      ]
    },
    {
      "cell_type": "markdown",
      "metadata": {
        "id": "3snL7TXNL38K",
        "notebookgrader": {
          "id": "222fbffbdffb67c24721b1effe0c536e95adcb82",
          "readonly": true
        }
      },
      "source": [
        "Let's test these functions before we go any further."
      ]
    },
    {
      "cell_type": "code",
      "execution_count": null,
      "metadata": {
        "id": "AWa3T2vRlDPJ",
        "notebookgrader": {
          "id": "61b3f3323ed4baf5164a8fdbf950cca91c6faf74",
          "is_solution": false,
          "is_tests": true,
          "readonly": true,
          "test_points": 10
        }
      },
      "outputs": [],
      "source": [
        "# Tests 10 points: mean and sample standard deviation.\n",
        "\n",
        "data = [1, 2, 3, 4, 5, 6, 7]\n",
        "assert mean(data) == 4\n",
        "assert round(sample_stdev(data), 2) == 2.16, round(sample_stdev(data), 2)\n",
        "assert round(mean(df['baseline'][:10]), 2) == 9.78, round(mean(df['baseline'][:10]), 2)\n",
        "assert round(sample_stdev(df['baseline'][:10]), 2) == 2.56, round(sample_stdev(df['baseline'][:10]), 2)\n",
        "\n"
      ]
    },
    {
      "cell_type": "markdown",
      "metadata": {
        "id": "7egjRKeF6ZbT",
        "notebookgrader": {
          "id": "c74a2f0eacc2063979666dcc0ce858a96afd80f8",
          "readonly": true
        }
      },
      "source": [
        "Good.  Now, if I give you a value of n, we can compute the value of Welch's t-test statistic.\n",
        "You proceed as follows.  \n",
        "\n",
        "First, you compute $\\mu_1, \\mu_2$, and $s_1^2, s_2^2$, looking at the first\n",
        "$n$ values of each of the `baseline`, `proposed` data series (1=`\\baseline`, 2=`proposed`, in the subscripts).\n",
        "\n",
        "Then, you compute the t-statistic as follows:\n",
        "\n",
        "$$t = \\frac{|\\mu_1 - \\mu_2|}{\\sqrt{\\frac{s_1^2}{n} + \\frac{s_2^2}{n}}}$$\n",
        "\n",
        "We let you do it."
      ]
    },
    {
      "cell_type": "code",
      "execution_count": null,
      "metadata": {
        "id": "I43POxDQYH0G",
        "notebookgrader": {
          "id": "96aae635c7c94a2a19d71b38a4f64c463af5fe58",
          "is_solution": true,
          "is_tests": false,
          "readonly": false
        }
      },
      "outputs": [],
      "source": [
        "def welch_t_value(n):\n",
        "    \"\"\"Computes the Welch t-value for the experiment, if we stop after n\n",
        "    data points.\"\"\"\n",
        "    ### YOUR SOLUTION HERE\n",
        "    baseline = df[\"baseline\"].head(n)\n",
        "    proposed = df[\"proposed\"].head(n)\n",
        "\n",
        "    u1 = mean(baseline)\n",
        "    u2 = mean(proposed)\n",
        "    s1 = sample_stdev(baseline)\n",
        "    s2 = sample_stdev(proposed)\n",
        "\n",
        "    if n == 0:\n",
        "      return 0\n",
        "    if math.sqrt(((s1 ** 2) / n) + ((s2 ** 2) / n)) == 0:\n",
        "      return 0\n",
        "\n",
        "    t_top = abs(u1 - u2)\n",
        "    t_bottom = math.sqrt(((s1 ** 2) / n) + ((s2 ** 2) / n))\n",
        "    return t_top / t_bottom\n"
      ]
    },
    {
      "cell_type": "markdown",
      "metadata": {
        "id": "Wtv2sSXpaQfy",
        "notebookgrader": {
          "id": "e1d0872e86fd0047b044d26b43bcbfd00d264aab",
          "readonly": true
        }
      },
      "source": [
        "Let's test your solution, to help you debug."
      ]
    },
    {
      "cell_type": "code",
      "execution_count": null,
      "metadata": {
        "id": "jo-Kq7kAaP4y",
        "notebookgrader": {
          "id": "03053190d7c5fc7e46a1109c1c30d4a698beeed9",
          "is_solution": false,
          "is_tests": true,
          "readonly": true,
          "test_points": 10
        }
      },
      "outputs": [],
      "source": [
        "# Tests 10 points: Welch t-value.\n",
        "\n",
        "assert round(welch_t_value(10), 2) == 0.14, round(welch_t_value(10), 2)\n",
        "assert round(welch_t_value(20), 2) == 1.21, round(welch_t_value(20), 2)\n",
        "\n"
      ]
    },
    {
      "cell_type": "markdown",
      "metadata": {
        "id": "OVp5mlY-ram1",
        "notebookgrader": {
          "id": "7db54cdef0ce526ddd9dabe7d4108625ba6e78c5",
          "readonly": true
        }
      },
      "source": [
        "Ok. Now, suppose you want to find the smallest value of `N` such that the proposed algorithm is significantly faster than the baseline algorithm, with significance value $t=2$.  You can do so by trying all possible values of `N`, and stopping when you find the first one that works.  What is the value of N?\n",
        "\n",
        "We let you implement in the following cell; at the end of it, you have to report the value of `N` you found."
      ]
    },
    {
      "cell_type": "code",
      "execution_count": null,
      "metadata": {
        "id": "AXE4tZm4h-qs",
        "notebookgrader": {
          "id": "a6d5b1fbc01709c836400ab9a6962758e83c3032",
          "is_solution": true,
          "is_tests": false,
          "readonly": false
        },
        "colab": {
          "base_uri": "https://localhost:8080/"
        },
        "outputId": "4b406e66-49c4-4acb-ef0c-be71fd3725f1"
      },
      "outputs": [
        {
          "output_type": "stream",
          "name": "stdout",
          "text": [
            "42\n"
          ]
        }
      ],
      "source": [
        "N = 1 # This is just a placeholder. Please assign the proper value to N below the `YOUR SOLUTION HERE` comment.\n",
        "\n",
        "### YOUR SOLUTION HERE\n",
        "while N <= len(df):\n",
        "  if welch_t_value(N) >= 2:\n",
        "    break\n",
        "  else:\n",
        "    N += 1\n",
        "print(N)"
      ]
    },
    {
      "cell_type": "code",
      "execution_count": null,
      "metadata": {
        "id": "4wAb8ez9_Omi",
        "notebookgrader": {
          "id": "3a6fc85796b94354200d37c4ce791686f61fe13d",
          "is_solution": false,
          "is_tests": true,
          "readonly": true,
          "test_points": 10
        }
      },
      "outputs": [],
      "source": [
        "# Tests 10 points: determining N.\n",
        "\n",
        "# This is just an easy test.  When grading, we will test for the minimum value of N\n",
        "# that yields t > 2.0.\n",
        "\n",
        "assert 2 <= N <= 1000 # Just to make sure you assigned something reasonable to N.\n"
      ]
    },
    {
      "cell_type": "markdown",
      "metadata": {
        "id": "Qnyx2e9K8W6l",
        "notebookgrader": {
          "id": "30890081ed1253e80234c0c0f30b4bad967e29b6",
          "readonly": true
        }
      },
      "source": [
        "Hmmm.  Who knows.  Is this really enough? Suppose you decide to run the experiment more times.\n",
        "What is the minimum value of the Welch t-statistic you can get, for any value of `N` greater than\n",
        "the threshold you found?  Assign this value to the variable `min_t_stat_after_stopping`."
      ]
    },
    {
      "cell_type": "code",
      "execution_count": null,
      "metadata": {
        "id": "4ndngMBoJElh",
        "notebookgrader": {
          "id": "00eb4bb68971e47372708ea74966edaa64826ac5",
          "is_solution": true,
          "is_tests": false,
          "readonly": false
        }
      },
      "outputs": [],
      "source": [
        "# This is just a placeholder. Please assign the proper value to min_t_stat_after_stopping\n",
        "# below the `YOUR SOLUTION HERE` comment.\n",
        "min_t_stat_after_stopping = 1000\n",
        "\n",
        "# Note: min_t_stat_after_stopping can be computed in one line of code.\n",
        "# You can use a longer solution, of course.\n",
        "\n",
        "### YOUR SOLUTION HERE\n",
        "for n in range(N, len(df) + 1):\n",
        "  if welch_t_value(n) < min_t_stat_after_stopping:\n",
        "    min_t_stat_after_stopping = welch_t_value(n)"
      ]
    },
    {
      "cell_type": "code",
      "execution_count": null,
      "metadata": {
        "id": "GHPCdNFF20rG",
        "notebookgrader": {
          "id": "a9eb68a91a7f461be60f1372a32d663c00095c84",
          "is_solution": false,
          "is_tests": true,
          "readonly": true,
          "test_points": 10
        }
      },
      "outputs": [],
      "source": [
        "# Tests 10 points: minimum t-statistic after stopping.\n",
        "\n",
        "# This is just a very wide test.  The real test is hidden.\n",
        "assert 0.1 <= min_t_stat_after_stopping <= 2.1\n"
      ]
    },
    {
      "cell_type": "markdown",
      "metadata": {
        "id": "Gs3Ozc9lFOUb",
        "notebookgrader": {
          "id": "0db0a15d9e9f395002b61a800ce2fc8896111e12",
          "readonly": true
        }
      },
      "source": [
        "Hmmm. Ok, what can you conclude from this?  Was it really a good idea to stop so early?\n",
        "Did this teach you something about being careful with experiments?\n",
        "\n",
        "Purely for the sake of curiosity / education, let's plot how the t-statistic varies with `N`."
      ]
    },
    {
      "cell_type": "code",
      "execution_count": null,
      "metadata": {
        "id": "1V6SnEffkr09",
        "notebookgrader": {
          "id": "d2f2dd36add865acbce01e5f89e6e780512a8c3f",
          "is_solution": false,
          "is_tests": false,
          "readonly": true
        },
        "colab": {
          "base_uri": "https://localhost:8080/",
          "height": 447
        },
        "outputId": "ee2ed55d-9829-487d-f9d9-8090c78e0886"
      },
      "outputs": [
        {
          "output_type": "execute_result",
          "data": {
            "text/plain": [
              "[<matplotlib.lines.Line2D at 0x7a870c312990>]"
            ]
          },
          "metadata": {},
          "execution_count": 85
        },
        {
          "output_type": "display_data",
          "data": {
            "text/plain": [
              "<Figure size 640x480 with 1 Axes>"
            ],
            "image/png": "[encoded data removed]"
          },
          "metadata": {}
        }
      ],
      "source": [
        "import matplotlib.pyplot as plt\n",
        "\n",
        "ns = range(2, 1000)\n",
        "ts = [welch_t_value(nn) for nn in ns]\n",
        "plt.plot(ns, ts)"
      ]
    },
    {
      "cell_type": "markdown",
      "metadata": {
        "id": "6N0YBXUIn2qc",
        "notebookgrader": {
          "id": "92f7e3f376a88f40572ef6a72c19e3141ec19b8d",
          "readonly": true
        }
      },
      "source": [
        "Isn't this somewhat scary?  Does this teach you about the value of being curious about data, and gathering more evidence than you think you need?"
      ]
    },
    {
      "cell_type": "markdown",
      "metadata": {
        "id": "s64sL6tBEvJl",
        "notebookgrader": {
          "id": "1be705e8ad4670545be0a02b69ae98faf0aa31c4",
          "readonly": true
        }
      },
      "source": [
        "Ignore the cells below.  They were used to generate the data."
      ]
    },
    {
      "cell_type": "code",
      "execution_count": null,
      "metadata": {
        "id": "xzOOPYeqhb0J",
        "notebookgrader": {
          "id": "9c85705019a3c7e8c091c5eacea1fac10978a019",
          "is_solution": false,
          "is_tests": false,
          "readonly": true
        }
      },
      "outputs": [],
      "source": [
        "# # Define parameters\n",
        "# k = 10        # Shape parameter\n",
        "# theta1 = 1    # Scale parameter (must be chosen)\n",
        "# theta2 = 1.05\n",
        "# n_samples = 1000\n",
        "\n",
        "# # Generate random numbers\n",
        "# random_samples1 = np.random.gamma(shape=k, scale=theta1, size=n_samples)\n",
        "# random_samples2 = np.random.gamma(shape=k, scale=theta2, size=n_samples)\n",
        "\n",
        "# df = pd.DataFrame({'baseline': random_samples1, 'proposed': random_samples2})\n"
      ]
    },
    {
      "cell_type": "code",
      "execution_count": null,
      "metadata": {
        "id": "0MsAdq8JVy5l",
        "notebookgrader": {
          "id": "ebaa8bc4ba428aaa3e361fa0d404e874439d29b8",
          "is_solution": false,
          "is_tests": false,
          "readonly": true
        }
      },
      "outputs": [],
      "source": [
        "# df.to_csv(\"experiment_data.csv\", index=False)"
      ]
    }
  ],
  "metadata": {
    "colab": {
      "provenance": []
    },
    "kernelspec": {
      "display_name": "Python 3",
      "name": "python3"
    },
    "language_info": {
      "name": "python"
    },
    "notebookgrader": {
      "total_points": 70
    }
  },
  "nbformat": 4,
  "nbformat_minor": 0
}